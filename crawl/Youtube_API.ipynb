{
 "cells": [
  {
   "cell_type": "markdown",
   "id": "de8b1474-9436-4e2b-8847-53e65be52e88",
   "metadata": {},
   "source": [
    "## 1. youtube list 추출"
   ]
  },
  {
   "cell_type": "code",
   "execution_count": 1,
   "id": "e65b422a-7786-4b76-bc83-cfd24700eee5",
   "metadata": {},
   "outputs": [
    {
     "name": "stdout",
     "output_type": "stream",
     "text": [
      "Requirement already satisfied: google-api-python-client in /Users/eunseo/anaconda3/lib/python3.10/site-packages (2.87.0)\n",
      "Requirement already satisfied: httplib2<1dev,>=0.15.0 in /Users/eunseo/anaconda3/lib/python3.10/site-packages (from google-api-python-client) (0.22.0)\n",
      "Requirement already satisfied: google-auth<3.0.0dev,>=1.19.0 in /Users/eunseo/anaconda3/lib/python3.10/site-packages (from google-api-python-client) (2.19.0)\n",
      "Requirement already satisfied: google-auth-httplib2>=0.1.0 in /Users/eunseo/anaconda3/lib/python3.10/site-packages (from google-api-python-client) (0.1.0)\n",
      "Requirement already satisfied: google-api-core!=2.0.*,!=2.1.*,!=2.2.*,!=2.3.0,<3.0.0dev,>=1.31.5 in /Users/eunseo/anaconda3/lib/python3.10/site-packages (from google-api-python-client) (2.11.0)\n",
      "Requirement already satisfied: uritemplate<5,>=3.0.1 in /Users/eunseo/anaconda3/lib/python3.10/site-packages (from google-api-python-client) (4.1.1)\n",
      "Requirement already satisfied: googleapis-common-protos<2.0dev,>=1.56.2 in /Users/eunseo/anaconda3/lib/python3.10/site-packages (from google-api-core!=2.0.*,!=2.1.*,!=2.2.*,!=2.3.0,<3.0.0dev,>=1.31.5->google-api-python-client) (1.59.0)\n",
      "Requirement already satisfied: protobuf!=3.20.0,!=3.20.1,!=4.21.0,!=4.21.1,!=4.21.2,!=4.21.3,!=4.21.4,!=4.21.5,<5.0.0dev,>=3.19.5 in /Users/eunseo/anaconda3/lib/python3.10/site-packages (from google-api-core!=2.0.*,!=2.1.*,!=2.2.*,!=2.3.0,<3.0.0dev,>=1.31.5->google-api-python-client) (4.23.2)\n",
      "Requirement already satisfied: requests<3.0.0dev,>=2.18.0 in /Users/eunseo/anaconda3/lib/python3.10/site-packages (from google-api-core!=2.0.*,!=2.1.*,!=2.2.*,!=2.3.0,<3.0.0dev,>=1.31.5->google-api-python-client) (2.28.1)\n",
      "Requirement already satisfied: cachetools<6.0,>=2.0.0 in /Users/eunseo/anaconda3/lib/python3.10/site-packages (from google-auth<3.0.0dev,>=1.19.0->google-api-python-client) (5.3.1)\n",
      "Requirement already satisfied: pyasn1-modules>=0.2.1 in /Users/eunseo/anaconda3/lib/python3.10/site-packages (from google-auth<3.0.0dev,>=1.19.0->google-api-python-client) (0.2.8)\n",
      "Requirement already satisfied: rsa<5,>=3.1.4 in /Users/eunseo/anaconda3/lib/python3.10/site-packages (from google-auth<3.0.0dev,>=1.19.0->google-api-python-client) (4.9)\n",
      "Requirement already satisfied: six>=1.9.0 in /Users/eunseo/anaconda3/lib/python3.10/site-packages (from google-auth<3.0.0dev,>=1.19.0->google-api-python-client) (1.16.0)\n",
      "Requirement already satisfied: urllib3<2.0 in /Users/eunseo/anaconda3/lib/python3.10/site-packages (from google-auth<3.0.0dev,>=1.19.0->google-api-python-client) (1.26.14)\n",
      "Requirement already satisfied: pyparsing!=3.0.0,!=3.0.1,!=3.0.2,!=3.0.3,<4,>=2.4.2 in /Users/eunseo/anaconda3/lib/python3.10/site-packages (from httplib2<1dev,>=0.15.0->google-api-python-client) (3.0.9)\n",
      "Requirement already satisfied: pyasn1<0.5.0,>=0.4.6 in /Users/eunseo/anaconda3/lib/python3.10/site-packages (from pyasn1-modules>=0.2.1->google-auth<3.0.0dev,>=1.19.0->google-api-python-client) (0.4.8)\n",
      "Requirement already satisfied: charset-normalizer<3,>=2 in /Users/eunseo/anaconda3/lib/python3.10/site-packages (from requests<3.0.0dev,>=2.18.0->google-api-core!=2.0.*,!=2.1.*,!=2.2.*,!=2.3.0,<3.0.0dev,>=1.31.5->google-api-python-client) (2.0.4)\n",
      "Requirement already satisfied: idna<4,>=2.5 in /Users/eunseo/anaconda3/lib/python3.10/site-packages (from requests<3.0.0dev,>=2.18.0->google-api-core!=2.0.*,!=2.1.*,!=2.2.*,!=2.3.0,<3.0.0dev,>=1.31.5->google-api-python-client) (3.4)\n",
      "Requirement already satisfied: certifi>=2017.4.17 in /Users/eunseo/anaconda3/lib/python3.10/site-packages (from requests<3.0.0dev,>=2.18.0->google-api-core!=2.0.*,!=2.1.*,!=2.2.*,!=2.3.0,<3.0.0dev,>=1.31.5->google-api-python-client) (2022.12.7)\n"
     ]
    }
   ],
   "source": [
    "!pip install google-api-python-client"
   ]
  },
  {
   "cell_type": "code",
   "execution_count": 46,
   "id": "479c2ef4-3890-4905-8561-00306b038f13",
   "metadata": {},
   "outputs": [],
   "source": [
    "#사용할library\n",
    "\n",
    "import os\n",
    "import datetime as dt\n",
    "from apiclient.discovery import build\n",
    "from apiclient.errors import HttpError\n",
    "import csv\n",
    "import pandas\n",
    "from tqdm import tqdm"
   ]
  },
  {
   "cell_type": "code",
   "execution_count": 47,
   "id": "305f0eb5-71fa-4883-858b-8bc7d5c9fdff",
   "metadata": {},
   "outputs": [],
   "source": [
    "#전역변수 \n",
    "# api_key = os.environ.get(\"APIKEY_GOOGLE\")    \n",
    "api_obj = build('youtube','v3',developerKey='MY_API_KEY')"
   ]
  },
  {
   "cell_type": "code",
   "execution_count": 48,
   "id": "f4971665-7f1d-456b-9fa5-5c436f47badc",
   "metadata": {},
   "outputs": [],
   "source": [
    "#youtube_list만들기\n",
    "def youtube_list(query,start_date, end_date, order_option='relevance'):\n",
    "\n",
    "    res_list =[]\n",
    "    cnt = 0\n",
    "\n",
    "    try:\n",
    "        response = api_obj.search().list(part='id,snippet',q=query,publishedAfter=start_date, publishedBefore=end_date,order=order_option, maxResults = 100).execute()\n",
    "        now = dt.datetime.now()\n",
    "        nowDatetime = now.strftime('%Y%m%d(%H_%M_%S)')\n",
    "        print(nowDatetime)\n",
    "    except HttpError as e:\n",
    "        print(e)\n",
    "        return \n",
    "        \n",
    "\n",
    "    while response:\n",
    "        for i,item in tqdm(enumerate(response['items'])):\n",
    "            #video만 playlist channel제외\n",
    "            if item['id']['kind']=='youtube#video':\n",
    "                res_list.append([i, item['id']['videoId'], 'https://www.youtube.com/watch?v={id}'.format(id=item['id']['videoId']), item['snippet']['publishedAt'], item['snippet']['title']])\n",
    "                \n",
    "        #다음페이지가 있으면 api호출을 한다\n",
    "        if 'nextPageToken' in response:\n",
    "            cnt += 1\n",
    "            print(\"nextpage:\",cnt)\n",
    "            try:\n",
    "                response = api_obj.search().list(part='id,snippet',q=query,publishedAfter=start_date, publishedBefore=end_date,order=order_option, pageToken=response['nextPageToken'], maxResults=100).execute()\n",
    "                \n",
    "            except  HttpError as e:\n",
    "                print(e)\n",
    "                pass\n",
    "        else:\n",
    "            break\n",
    "\n",
    "    \n",
    "    return res_list,nowDatetime\n"
   ]
  },
  {
   "cell_type": "code",
   "execution_count": 49,
   "id": "fa545696-c2ff-487e-bc94-540b01b96349",
   "metadata": {},
   "outputs": [
    {
     "name": "stdout",
     "output_type": "stream",
     "text": [
      "20230604(22_24_30)\n"
     ]
    },
    {
     "name": "stderr",
     "output_type": "stream",
     "text": [
      "50it [00:00, 112629.00it/s]"
     ]
    },
    {
     "name": "stdout",
     "output_type": "stream",
     "text": [
      "nextpage: 1\n"
     ]
    },
    {
     "name": "stderr",
     "output_type": "stream",
     "text": [
      "\n",
      "50it [00:00, 120525.98it/s]\n"
     ]
    },
    {
     "name": "stdout",
     "output_type": "stream",
     "text": [
      "nextpage: 2\n"
     ]
    },
    {
     "name": "stderr",
     "output_type": "stream",
     "text": [
      "50it [00:00, 149157.33it/s]\n"
     ]
    },
    {
     "name": "stdout",
     "output_type": "stream",
     "text": [
      "nextpage: 3\n"
     ]
    },
    {
     "name": "stderr",
     "output_type": "stream",
     "text": [
      "50it [00:00, 127875.12it/s]\n"
     ]
    },
    {
     "name": "stdout",
     "output_type": "stream",
     "text": [
      "nextpage: 4\n"
     ]
    },
    {
     "name": "stderr",
     "output_type": "stream",
     "text": [
      "50it [00:00, 159722.16it/s]\n"
     ]
    },
    {
     "name": "stdout",
     "output_type": "stream",
     "text": [
      "nextpage: 5\n"
     ]
    },
    {
     "name": "stderr",
     "output_type": "stream",
     "text": [
      "50it [00:00, 136533.33it/s]\n"
     ]
    },
    {
     "name": "stdout",
     "output_type": "stream",
     "text": [
      "nextpage: 6\n"
     ]
    },
    {
     "name": "stderr",
     "output_type": "stream",
     "text": [
      "50it [00:00, 153975.92it/s]\n"
     ]
    },
    {
     "name": "stdout",
     "output_type": "stream",
     "text": [
      "nextpage: 7\n"
     ]
    },
    {
     "name": "stderr",
     "output_type": "stream",
     "text": [
      "50it [00:00, 121644.55it/s]\n"
     ]
    },
    {
     "name": "stdout",
     "output_type": "stream",
     "text": [
      "nextpage: 8\n"
     ]
    },
    {
     "name": "stderr",
     "output_type": "stream",
     "text": [
      "50it [00:00, 158275.62it/s]\n"
     ]
    },
    {
     "name": "stdout",
     "output_type": "stream",
     "text": [
      "nextpage: 9\n"
     ]
    },
    {
     "name": "stderr",
     "output_type": "stream",
     "text": [
      "50it [00:00, 202427.80it/s]\n"
     ]
    },
    {
     "name": "stdout",
     "output_type": "stream",
     "text": [
      "nextpage: 10\n"
     ]
    },
    {
     "name": "stderr",
     "output_type": "stream",
     "text": [
      "8it [00:00, 40184.95it/s]\n"
     ]
    }
   ],
   "source": [
    "######################################list파일작성 메인함수\n",
    "query = \"저출산\"\n",
    "start_date = '2022-06-01T00:00:00Z'  \n",
    "end_date = '2023-05-31T23:59:59Z' \n",
    "order_option = 'viewCount' \n",
    "\n",
    "#order option\n",
    "#date – 리소스를 만든 날짜를 기준으로 최근 항목부터 시간 순서대로 리소스를 정렬합니다.\n",
    "#rating – 높은 평가부터 낮은 평가순으로 리소스를 정렬합니다.\n",
    "#relevance – 검색 쿼리에 대한 관련성을 기준으로 리소스를 정렬합니다. 이 매개변수의 기본값입니다.\n",
    "#title – 제목에 따라 문자순으로 리소스를 정렬합니다.\n",
    "#videoCount – 업로드한 동영상 수에 따라 채널을 내림차순으로 정렬합니다.\n",
    "#viewCount – 리소스를 조회수가 높은 항목부터 정렬합니다.\n",
    "\n",
    "\n",
    "y_list, searchdatetime= youtube_list(query,start_date, end_date, order_option)\n",
    "df = pandas.DataFrame(y_list)\n",
    "filename = './data/0_{}_{}_{}_{}.csv'.format(query,start_date[:7],end_date[:7],searchdatetime)  #조회일시를 파일명으로 기록합니다\n",
    "df.to_csv(filename, encoding=\"utf-8-sig\")"
   ]
  },
  {
   "cell_type": "code",
   "execution_count": 54,
   "id": "a55e3231-77d2-4acc-a579-9a665ee5d83d",
   "metadata": {},
   "outputs": [
    {
     "name": "stdout",
     "output_type": "stream",
     "text": [
      "20230604(22_25_47)\n"
     ]
    },
    {
     "name": "stderr",
     "output_type": "stream",
     "text": [
      "50it [00:00, 78486.23it/s]"
     ]
    },
    {
     "name": "stdout",
     "output_type": "stream",
     "text": [
      "nextpage: 1\n"
     ]
    },
    {
     "name": "stderr",
     "output_type": "stream",
     "text": [
      "\n",
      "50it [00:00, 131896.35it/s]\n"
     ]
    },
    {
     "name": "stdout",
     "output_type": "stream",
     "text": [
      "nextpage: 2\n"
     ]
    },
    {
     "name": "stderr",
     "output_type": "stream",
     "text": [
      "50it [00:00, 121927.44it/s]\n"
     ]
    },
    {
     "name": "stdout",
     "output_type": "stream",
     "text": [
      "nextpage: 3\n"
     ]
    },
    {
     "name": "stderr",
     "output_type": "stream",
     "text": [
      "50it [00:00, 126258.40it/s]\n"
     ]
    },
    {
     "name": "stdout",
     "output_type": "stream",
     "text": [
      "nextpage: 4\n"
     ]
    },
    {
     "name": "stderr",
     "output_type": "stream",
     "text": [
      "50it [00:00, 121012.81it/s]\n"
     ]
    },
    {
     "name": "stdout",
     "output_type": "stream",
     "text": [
      "nextpage: 5\n"
     ]
    },
    {
     "name": "stderr",
     "output_type": "stream",
     "text": [
      "50it [00:00, 205000.20it/s]\n"
     ]
    },
    {
     "name": "stdout",
     "output_type": "stream",
     "text": [
      "nextpage: 6\n"
     ]
    },
    {
     "name": "stderr",
     "output_type": "stream",
     "text": [
      "50it [00:00, 162822.36it/s]\n"
     ]
    },
    {
     "name": "stdout",
     "output_type": "stream",
     "text": [
      "nextpage: 7\n"
     ]
    },
    {
     "name": "stderr",
     "output_type": "stream",
     "text": [
      "50it [00:00, 164482.51it/s]\n"
     ]
    },
    {
     "name": "stdout",
     "output_type": "stream",
     "text": [
      "nextpage: 8\n"
     ]
    },
    {
     "name": "stderr",
     "output_type": "stream",
     "text": [
      "50it [00:00, 198406.05it/s]\n"
     ]
    },
    {
     "name": "stdout",
     "output_type": "stream",
     "text": [
      "nextpage: 9\n"
     ]
    },
    {
     "name": "stderr",
     "output_type": "stream",
     "text": [
      "50it [00:00, 112387.57it/s]\n"
     ]
    },
    {
     "name": "stdout",
     "output_type": "stream",
     "text": [
      "nextpage: 10\n"
     ]
    },
    {
     "name": "stderr",
     "output_type": "stream",
     "text": [
      "7it [00:00, 37641.19it/s]\n"
     ]
    }
   ],
   "source": [
    "######################################list파일작성 메인함수\n",
    "query = \"저출산\"\n",
    "start_date = '2022-06-01T00:00:00Z'  \n",
    "end_date = '2023-05-31T23:59:59Z' \n",
    "order_option = 'viewCount' \n",
    "\n",
    "#order option\n",
    "#date – 리소스를 만든 날짜를 기준으로 최근 항목부터 시간 순서대로 리소스를 정렬합니다.\n",
    "#rating – 높은 평가부터 낮은 평가순으로 리소스를 정렬합니다.\n",
    "#relevance – 검색 쿼리에 대한 관련성을 기준으로 리소스를 정렬합니다. 이 매개변수의 기본값입니다.\n",
    "#title – 제목에 따라 문자순으로 리소스를 정렬합니다.\n",
    "#videoCount – 업로드한 동영상 수에 따라 채널을 내림차순으로 정렬합니다.\n",
    "#viewCount – 리소스를 조회수가 높은 항목부터 정렬합니다.\n",
    "\n",
    "\n",
    "y_list, searchdatetime= youtube_list(query,start_date, end_date, order_option)\n",
    "df = pandas.DataFrame(y_list)\n",
    "filename = './data/0_{}_{}_{}_{}.csv'.format(query,start_date[:7],end_date[:7],searchdatetime)  #조회일시를 파일명으로 기록합니다\n",
    "df.to_csv(filename, encoding=\"utf-8-sig\")"
   ]
  },
  {
   "cell_type": "code",
   "execution_count": 55,
   "id": "e37926bd-cf96-40ee-99b0-3150bfebe5d2",
   "metadata": {},
   "outputs": [
    {
     "data": {
      "text/plain": [
       "507"
      ]
     },
     "execution_count": 55,
     "metadata": {},
     "output_type": "execute_result"
    }
   ],
   "source": [
    "len(y_list)"
   ]
  },
  {
   "cell_type": "markdown",
   "id": "d1c1e698-9bbe-49de-967b-8aaaa88f655f",
   "metadata": {},
   "source": [
    "## 2. youtube 조회수 상위 50개 댓글 크롤링"
   ]
  },
  {
   "cell_type": "code",
   "execution_count": 56,
   "id": "6ef7d6fb-a9d1-4288-95b2-d8ad67b6a65f",
   "metadata": {},
   "outputs": [],
   "source": [
    "def make_comments(video_id):\n",
    "\n",
    "    #댓글 및 대댓글 저장 리스트\n",
    "    comments = []\n",
    "    \n",
    "    #nextPageToken 초기화\n",
    "    next_page_token = None\n",
    "\n",
    "    \n",
    "    # 대댓글 가져오기\n",
    "    def get_replies(parent_id, next_page_token=None):\n",
    "        has_more_replies = True\n",
    "        while has_more_replies:\n",
    "            replies_response = api_obj.comments().list(\n",
    "                part='snippet',\n",
    "                parentId=parent_id,\n",
    "                maxResults=100,\n",
    "                pageToken=next_page_token\n",
    "            ).execute()\n",
    "        \n",
    "            for reply_item in replies_response['items']:\n",
    "                comments.append([reply_item['snippet']['textOriginal'], reply_item['snippet']['authorDisplayName'], reply_item['snippet']['publishedAt'], reply_item['snippet']['likeCount'], 'Reply'])\n",
    "        \n",
    "            if 'nextPageToken' in replies_response:\n",
    "                next_page_token = replies_response['nextPageToken']\n",
    "            else:\n",
    "                has_more_replies = False\n",
    "    \n",
    "\n",
    "    # 댓글 및 대댓글 가져오기\n",
    "    has_more_comments = True\n",
    "    while has_more_comments:\n",
    "        try:  #수정위치\n",
    "            response = api_obj.commentThreads().list(\n",
    "                part='snippet',\n",
    "                videoId=video_id,\n",
    "                maxResults=100,\n",
    "                pageToken=next_page_token\n",
    "            ).execute()\n",
    "  \n",
    "        except HttpError as e:\n",
    "            print(\"An HTTP error %d occurred:\\n%s\" % (e.resp.status, e.content))\n",
    "            has_more_comments = False\n",
    "            break\n",
    "   \n",
    "    \n",
    "        for item in response['items']:\n",
    "            # 댓글 정보 저장\n",
    "            comment = item['snippet']['topLevelComment']['snippet']\n",
    "            comments.append([comment['textOriginal'], comment['authorDisplayName'], comment['publishedAt'], comment['likeCount'], 'Comment'])\n",
    "    \n",
    "            # 대댓글 정보 저장\n",
    "            if 'totalReplyCount' in item['snippet']:\n",
    "                total_reply_count = item['snippet']['totalReplyCount']\n",
    "                if total_reply_count > 0:\n",
    "                    get_replies(item['snippet']['topLevelComment']['id'], next_page_token)\n",
    "    \n",
    "        if 'nextPageToken' in response:\n",
    "            next_page_token = response['nextPageToken']\n",
    "        else:\n",
    "            has_more_comments = False\n",
    "\n",
    "    # 이스케이프 문자 설정 예시\n",
    "    escapechar = '\\\\'  # 이스케이프 문자로 역슬래시를 사용\n",
    "            \n",
    "    \n",
    "    #댓글 저장하기 \n",
    "    with open('./data/comments_{}.csv'.format(video_id), 'w', encoding='utf-8-sig', newline='') as file:\n",
    "        writer = csv.writer(file, escapechar=escapechar)  # writer 객체에 이스케이프 문자 설정\n",
    "        writer.writerow(['Comment', 'Author', 'Published At', 'Likes', 'Type'])\n",
    "        writer.writerows(comments)\n",
    "\n",
    "    print(f'Total comments: {len(comments)}')"
   ]
  },
  {
   "cell_type": "code",
   "execution_count": 57,
   "id": "f9c8875e-7668-443f-a3d1-c9424c33708f",
   "metadata": {},
   "outputs": [
    {
     "name": "stderr",
     "output_type": "stream",
     "text": [
      "  0%|          | 1/507 [00:59<8:23:25, 59.70s/it]"
     ]
    },
    {
     "name": "stdout",
     "output_type": "stream",
     "text": [
      "Total comments: 8241\n"
     ]
    },
    {
     "name": "stderr",
     "output_type": "stream",
     "text": [
      "  0%|          | 2/507 [01:10<4:19:04, 30.78s/it]"
     ]
    },
    {
     "name": "stdout",
     "output_type": "stream",
     "text": [
      "Total comments: 911\n"
     ]
    },
    {
     "name": "stderr",
     "output_type": "stream",
     "text": [
      "  1%|          | 3/507 [04:37<15:36:51, 111.53s/it]"
     ]
    },
    {
     "name": "stdout",
     "output_type": "stream",
     "text": [
      "Total comments: 18920\n"
     ]
    },
    {
     "name": "stderr",
     "output_type": "stream",
     "text": [
      "  1%|          | 4/507 [05:12<11:20:10, 81.13s/it] "
     ]
    },
    {
     "name": "stdout",
     "output_type": "stream",
     "text": [
      "Total comments: 3185\n"
     ]
    },
    {
     "name": "stderr",
     "output_type": "stream",
     "text": [
      "  1%|          | 5/507 [05:37<9:25:04, 67.54s/it] "
     ]
    },
    {
     "name": "stdout",
     "output_type": "stream",
     "text": [
      "Total comments: 1860\n"
     ]
    },
    {
     "name": "stderr",
     "output_type": "stream",
     "text": [
      "\n"
     ]
    }
   ],
   "source": [
    "################comment만드는 메인함수\n",
    "for index_y_id in tqdm(range(len(y_list))):  \n",
    "    if index_y_id >4:\n",
    "        break\n",
    "    make_comments(y_list[index_y_id][1])         "
   ]
  },
  {
   "cell_type": "code",
   "execution_count": 38,
   "id": "7bd0b3b8-f456-41c9-983f-71413b17e480",
   "metadata": {},
   "outputs": [
    {
     "name": "stdout",
     "output_type": "stream",
     "text": [
      "An HTTP error 403 occurred:\n",
      "b'{\\n  \"error\": {\\n    \"code\": 403,\\n    \"message\": \"The video identified by the \\\\u003ccode\\\\u003e\\\\u003ca href=\\\\\"/youtube/v3/docs/commentThreads/list#videoId\\\\\"\\\\u003evideoId\\\\u003c/a\\\\u003e\\\\u003c/code\\\\u003e parameter has disabled comments.\",\\n    \"errors\": [\\n      {\\n        \"message\": \"The video identified by the \\\\u003ccode\\\\u003e\\\\u003ca href=\\\\\"/youtube/v3/docs/commentThreads/list#videoId\\\\\"\\\\u003evideoId\\\\u003c/a\\\\u003e\\\\u003c/code\\\\u003e parameter has disabled comments.\",\\n        \"domain\": \"youtube.commentThread\",\\n        \"reason\": \"commentsDisabled\",\\n        \"location\": \"videoId\",\\n        \"locationType\": \"parameter\"\\n      }\\n    ]\\n  }\\n}\\n'\n",
      "Total comments: 0\n"
     ]
    }
   ],
   "source": [
    "# 한개씩 처리시 (오류나는 영상 댓글허용안되는)\n",
    "# make_comments(\"DTh1mRLTHFM\")"
   ]
  }
 ],
 "metadata": {
  "kernelspec": {
   "display_name": "Python 3 (ipykernel)",
   "language": "python",
   "name": "python3"
  },
  "language_info": {
   "codemirror_mode": {
    "name": "ipython",
    "version": 3
   },
   "file_extension": ".py",
   "mimetype": "text/x-python",
   "name": "python",
   "nbconvert_exporter": "python",
   "pygments_lexer": "ipython3",
   "version": "3.10.9"
  }
 },
 "nbformat": 4,
 "nbformat_minor": 5
}
